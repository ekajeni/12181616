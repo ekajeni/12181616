{
 "cells": [
  {
   "cell_type": "code",
   "execution_count": 1,
   "metadata": {},
   "outputs": [
    {
     "data": {
      "application/vnd.jupyter.widget-view+json": {
       "model_id": "e62a2add-50ca-4047-8d66-823a24f2d4d3",
       "version_major": 2,
       "version_minor": 0
      },
      "method": "display_data"
     },
     "metadata": {},
     "output_type": "display_data"
    }
   ],
   "source": [
    "%classpath add jar libs/*"
   ]
  },
  {
   "cell_type": "code",
   "execution_count": 18,
   "metadata": {},
   "outputs": [
    {
     "name": "stdout",
     "output_type": "stream",
     "text": [
      "                                                                       12181616.csv                                                                       \n",
      " idx  |  _id  |             series             |  kode_wilayah  |       wilayah        |  tahun  |  tanggal  |  bulan  |  triwulan  |  nilai  |  target  |\n",
      "----------------------------------------------------------------------------------------------------------------------------------------------------------\n",
      " 801  |  800  |  Luas Lahan yang Dibakar (Ha)  |       1202054  |   PANYABUNGAN TIMUR  |   2008  |           |         |            |    3.3  |          |\n",
      " 802  |  801  |  Luas Lahan yang Dibakar (Ha)  |       1202055  |         HUTA BARGOT  |   2008  |           |         |            |         |          |\n",
      " 803  |  802  |  Luas Lahan yang Dibakar (Ha)  |       1202060  |               NATAL  |   2008  |           |         |            |    525  |          |\n",
      " 804  |  803  |  Luas Lahan yang Dibakar (Ha)  |       1202070  |  MUARA BATANG GADIS  |   2008  |           |         |            |         |          |\n",
      " 805  |  804  |  Luas Lahan yang Dibakar (Ha)  |       1202080  |               SIABU  |   2008  |           |         |            |     16  |          |\n",
      "                                                                       12181616.json                                                                        \n",
      " kode_wilayah  |  tahun  |             series             |  nilai  |  _id   |       wilayah        |  tanggal  |  idx   |  bulan  |  triwulan  |  target  |\n",
      "------------------------------------------------------------------------------------------------------------------------------------------------------------\n",
      "      1301013  |   2008  |  Luas Lahan yang Dibakar (Ha)  |         |  1132  |         PAGAI UTARA  |           |  1131  |         |            |          |\n",
      "      1301021  |   2008  |  Luas Lahan yang Dibakar (Ha)  |         |  1133  |      SIPORA SELATAN  |           |  1132  |         |            |          |\n",
      "      1301022  |   2008  |  Luas Lahan yang Dibakar (Ha)  |    0.5  |  1134  |        SIPORA UTARA  |           |  1133  |         |            |          |\n",
      "      1301030  |   2008  |  Luas Lahan yang Dibakar (Ha)  |     20  |  1135  |     SIBERUT SELATAN  |           |  1134  |         |            |          |\n",
      "      1301031  |   2008  |  Luas Lahan yang Dibakar (Ha)  |         |  1136  |  SEBERUT BARAT DAYA  |           |  1135  |         |            |          |\n",
      "                                                                      12181616.csv                                                                       \n",
      " idx   |  _id   |             series             |  kode_wilayah  |      wilayah      |  tahun  |  tanggal  |  bulan  |  triwulan  |  nilai  |  target  |\n",
      "---------------------------------------------------------------------------------------------------------------------------------------------------------\n",
      " 1565  |  1566  |  Luas Lahan yang Dibakar (Ha)  |       1601140  |  BATU RAJA BARAT  |   2008  |           |         |            |         |          |\n",
      " 1566  |  1567  |  Luas Lahan yang Dibakar (Ha)  |       1602010  |         LEMPUING  |   2008  |           |         |            |         |          |\n",
      " 1567  |  1568  |  Luas Lahan yang Dibakar (Ha)  |       1602011  |    LEMPUING JAYA  |   2008  |           |         |            |     20  |          |\n",
      " 1568  |  1569  |  Luas Lahan yang Dibakar (Ha)  |       1602020  |           MESUJI  |   2008  |           |         |            |         |          |\n",
      " 1569  |  1570  |  Luas Lahan yang Dibakar (Ha)  |       1602021  |    SUNGAI MENANG  |   2008  |           |         |            |     55  |          |\n",
      "                 12181616.csv summary                 \n",
      "    Mean [nilai]     |  Max [nilai]  |  Min [nilai]  |\n",
      "------------------------------------------------------\n",
      " 134.81111111111107  |         2011  |          0.5  |"
     ]
    },
    {
     "data": {
      "text/plain": [
       "null"
      ]
     },
     "execution_count": 18,
     "metadata": {},
     "output_type": "execute_result"
    }
   ],
   "source": [
    "import tech.tablesaw.api.*;\n",
    "import tech.tablesaw.io.json.*;\n",
    "import static tech.tablesaw.aggregate.AggregateFunctions.*;\n",
    "\n",
    "// display Tablesaw tables with BeakerX table display widget\n",
    "tech.tablesaw.beakerx.TablesawDisplayer.register();\n",
    "\n",
    "//init objek\n",
    "Table dfSmallgrade = Table.read().csv(\"datasets/12181616/12181616.csv\");\n",
    "\n",
    "System.out.println(dfSmallgrade.first(5));\n",
    "\n",
    "//init objek JsonReader \n",
    "JsonReader reader = new JsonReader();\n",
    "\n",
    "//membaca file product.json\n",
    "JsonReadOptions fileJSON = JsonReadOptions.builder(\"datasets/12181616/12181616.json\").build();\n",
    "\n",
    "//memasukan data fileJSON ke dataframe \n",
    "Table tabeljson = reader.read(fileJSON);\n",
    "\n",
    "//menampilkan 4 data terkhir pada dataframe tabeljson\n",
    "System.out.println(tabeljson.first(5));\n",
    "                   \n",
    "//menggabungkan data pada dataframedata1 dan dataframedata2 untuk disimpan di df datagabung\n",
    "Table datagabung = dfSmallgrade.append(tabeljson);\n",
    "\n",
    "//menampilkan gabungan data yang ada di dataframe datagabung\n",
    "System.out.println(datagabung.last(5)); \n",
    "\n",
    "//menampilkan summary data yang ada di dataframe datagabung kolom \"grade\"\n",
    "System.out.print(datagabung.summarize(\"nilai\", mean, max, min).apply());"
   ]
  },
  {
   "cell_type": "code",
   "execution_count": null,
   "metadata": {},
   "outputs": [],
   "source": []
  },
  {
   "cell_type": "code",
   "execution_count": null,
   "metadata": {},
   "outputs": [],
   "source": []
  }
 ],
 "metadata": {
  "kernelspec": {
   "display_name": "Java",
   "language": "java",
   "name": "java"
  },
  "language_info": {
   "codemirror_mode": "text/x-java",
   "file_extension": ".java",
   "mimetype": "",
   "name": "Java",
   "nbconverter_exporter": "",
   "version": "1.8.0_121"
  },
  "toc": {
   "base_numbering": 1,
   "nav_menu": {},
   "number_sections": false,
   "sideBar": false,
   "skip_h1_title": false,
   "title_cell": "Table of Contents",
   "title_sidebar": "Contents",
   "toc_cell": false,
   "toc_position": {},
   "toc_section_display": false,
   "toc_window_display": false
  }
 },
 "nbformat": 4,
 "nbformat_minor": 2
}
